{
  "nbformat": 4,
  "nbformat_minor": 0,
  "metadata": {
    "colab": {
      "provenance": [],
      "authorship_tag": "ABX9TyOG/FcHyOeI2UqwbT3GOLQF",
      "include_colab_link": true
    },
    "kernelspec": {
      "name": "python3",
      "display_name": "Python 3"
    },
    "language_info": {
      "name": "python"
    }
  },
  "cells": [
    {
      "cell_type": "markdown",
      "metadata": {
        "id": "view-in-github",
        "colab_type": "text"
      },
      "source": [
        "<a href=\"https://colab.research.google.com/github/JacobHsu/py-colab/blob/main/array.ipynb\" target=\"_parent\"><img src=\"https://colab.research.google.com/assets/colab-badge.svg\" alt=\"Open In Colab\"/></a>"
      ]
    },
    {
      "cell_type": "markdown",
      "source": [
        "找出两数组的不同\n",
        "\n",
        "输入：nums1 = [1,2,3], nums2 = [2,4,6]  \n",
        "输出：[[1,3],[4,6]]"
      ],
      "metadata": {
        "id": "hhU3nL01T_jP"
      }
    },
    {
      "cell_type": "code",
      "execution_count": 16,
      "metadata": {
        "colab": {
          "base_uri": "https://localhost:8080/"
        },
        "id": "7yljvn-nTmsV",
        "outputId": "65c29019-d8a0-447e-e2c6-03209bfada1d"
      },
      "outputs": [
        {
          "output_type": "stream",
          "name": "stdout",
          "text": [
            "[[1, 3], [4, 6]]\n"
          ]
        }
      ],
      "source": [
        "from typing import List\n",
        "\n",
        "def findDifference(nums1: List[int], nums2: List[int]) -> List[List[int]]:\n",
        "    s1, s2 = set(nums1), set(nums2)\n",
        "    return [list(s1 - s2), list(s2 - s1)]\n",
        "\n",
        "\n",
        "print( findDifference([1, 2, 3], [2,4,6]) )"
      ]
    }
  ]
}