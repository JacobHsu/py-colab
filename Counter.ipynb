{
  "nbformat": 4,
  "nbformat_minor": 0,
  "metadata": {
    "colab": {
      "provenance": [],
      "authorship_tag": "ABX9TyPEgfI5SX+cWDsAnciMQ3uT",
      "include_colab_link": true
    },
    "kernelspec": {
      "name": "python3",
      "display_name": "Python 3"
    },
    "language_info": {
      "name": "python"
    }
  },
  "cells": [
    {
      "cell_type": "markdown",
      "metadata": {
        "id": "view-in-github",
        "colab_type": "text"
      },
      "source": [
        "<a href=\"https://colab.research.google.com/github/JacobHsu/py-colab/blob/main/Counter.ipynb\" target=\"_parent\"><img src=\"https://colab.research.google.com/assets/colab-badge.svg\" alt=\"Open In Colab\"/></a>"
      ]
    },
    {
      "cell_type": "markdown",
      "source": [
        "Counter\n",
        "\n",
        "dict 的子類別，用來計算可雜湊物件的數量"
      ],
      "metadata": {
        "id": "I7_s8Y44Gnxu"
      }
    },
    {
      "cell_type": "markdown",
      "source": [
        "确定两个字符串是否接近\n",
        "\n",
        "字符串 word1 和 word2 包含的字母种类必须相同；  \n",
        "将字符串 word1 和 word2 的所有字符出现次数排序，得到的两个数组必须相同。"
      ],
      "metadata": {
        "id": "MC_AnHWIHYUP"
      }
    },
    {
      "cell_type": "code",
      "execution_count": 11,
      "metadata": {
        "colab": {
          "base_uri": "https://localhost:8080/"
        },
        "id": "j8gPCG_JGdt9",
        "outputId": "fe6fb715-5868-463f-912d-c49e40a7bc96"
      },
      "outputs": [
        {
          "output_type": "stream",
          "name": "stdout",
          "text": [
            "Counter({'a': 1, 'b': 1, 'c': 1}) dict_keys(['a', 'b', 'c'])\n",
            "True\n"
          ]
        }
      ],
      "source": [
        "from collections import Counter\n",
        "\n",
        "def closeStrings(word1: str, word2: str) -> bool:\n",
        "        cnt1, cnt2 = Counter(word1), Counter(word2)\n",
        "        print(cnt1, cnt1.keys())\n",
        "        return sorted(cnt1.values()) == sorted(cnt2.values()) and set(cnt1.keys()) == set(cnt2.keys())\n",
        "\n",
        "\n",
        "print( closeStrings(\"abc\", \"bca\") )"
      ]
    }
  ]
}